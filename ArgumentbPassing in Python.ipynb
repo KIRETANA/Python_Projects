{
 "cells": [
  {
   "cell_type": "markdown",
   "id": "4bcea03a",
   "metadata": {},
   "source": [
    "# Positional Arguments"
   ]
  },
  {
   "cell_type": "code",
   "execution_count": 1,
   "id": "329a6bf7",
   "metadata": {},
   "outputs": [
    {
     "name": "stdout",
     "output_type": "stream",
     "text": [
      "Alice is enrolled in Mathematics class.\n"
     ]
    }
   ],
   "source": [
    "def student_information(class_name, student_name):\n",
    "    # Display information about a student and their class.\n",
    "    print(student_name + \" is enrolled in \" + class_name + \" class.\")\n",
    "# Positional arguments:\n",
    "student_information('Mathematics', 'Alice')\n"
   ]
  },
  {
   "attachments": {},
   "cell_type": "markdown",
   "id": "f5a18cc6",
   "metadata": {},
   "source": [
    "# Keyword Arguments"
   ]
  },
  {
   "cell_type": "code",
   "execution_count": 2,
   "id": "790a68fe",
   "metadata": {},
   "outputs": [
    {
     "name": "stdout",
     "output_type": "stream",
     "text": [
      "Alice is enrolled in Mathematics class.\n"
     ]
    }
   ],
   "source": [
    "def student_information(class_name, student_name):\n",
    "    # Display information about a student and their class.\n",
    "    print(student_name + \" is enrolled in \" + class_name + \" class.\")\n",
    "# Keyword arguments:\n",
    "student_information(class_name='Mathematics', student_name='Alice')"
   ]
  },
  {
   "cell_type": "markdown",
   "id": "d7a2a153",
   "metadata": {},
   "source": [
    "# Default Arguments"
   ]
  },
  {
   "cell_type": "code",
   "execution_count": 9,
   "id": "b41269f9",
   "metadata": {},
   "outputs": [
    {
     "name": "stdout",
     "output_type": "stream",
     "text": [
      "Student Name: Lina\n",
      "Enrolled Course: Introduction to Python\n",
      "Student Name: Sara\n",
      "Enrolled Course: Data Structures\n"
     ]
    }
   ],
   "source": [
    "def enroll_student(student_name, course='Introduction to Python'):\n",
    "    # Enroll a student in a course with a default option.\n",
    "     print(\"Student Name: \" + student_name)\n",
    "     print(\"Enrolled Course: \" + course)\n",
    "    # Using the default argument for course:\n",
    "enroll_student(student_name='Lina')\n",
    "\n",
    "# Overriding the default argument for course:\n",
    "enroll_student(student_name='Sara', course='Data Structures')\n"
   ]
  },
  {
   "cell_type": "markdown",
   "id": "772eaca8",
   "metadata": {},
   "source": []
  }
 ],
 "metadata": {
  "kernelspec": {
   "display_name": "Python 3 (ipykernel)",
   "language": "python",
   "name": "python3"
  },
  "language_info": {
   "codemirror_mode": {
    "name": "ipython",
    "version": 3
   },
   "file_extension": ".py",
   "mimetype": "text/x-python",
   "name": "python",
   "nbconvert_exporter": "python",
   "pygments_lexer": "ipython3",
   "version": "3.11.5"
  }
 },
 "nbformat": 4,
 "nbformat_minor": 5
}
