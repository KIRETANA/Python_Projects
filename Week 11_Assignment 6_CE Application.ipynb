{
 "cells": [
  {
   "cell_type": "markdown",
   "id": "b7f7b219",
   "metadata": {},
   "source": [
    "# Peng-Robinson Equation of State"
   ]
  },
  {
   "cell_type": "code",
   "execution_count": 1,
   "id": "0b9e5005",
   "metadata": {},
   "outputs": [],
   "source": [
    "import numpy as np\n",
    "import pandas as pd\n",
    "import sympy as sp\n",
    "from sympy import *\n",
    "import math"
   ]
  },
  {
   "cell_type": "code",
   "execution_count": 42,
   "id": "ec6b88fb",
   "metadata": {},
   "outputs": [
    {
     "name": "stdout",
     "output_type": "stream",
     "text": [
      "Enter pressure in psia:500\n",
      "Enter Temperature in Fahrenheit: 70\n",
      "For Pressure: 500.0 psia and Temperature: 70.0 Fahrenheit\n"
     ]
    }
   ],
   "source": [
    "#Input Pressure and Temperature values\n",
    "P = float(input(\"Enter pressure in psia:\")) # psia\n",
    "T = float(input(\"Enter Temperature in Fahrenheit: \")) # Fahrenheit\n",
    "\n",
    "print(f'For Pressure: {P} psia and Temperature: {T} Fahrenheit' )"
   ]
  },
  {
   "cell_type": "code",
   "execution_count": 43,
   "id": "e997b723",
   "metadata": {},
   "outputs": [
    {
     "data": {
      "text/html": [
       "<div>\n",
       "<style scoped>\n",
       "    .dataframe tbody tr th:only-of-type {\n",
       "        vertical-align: middle;\n",
       "    }\n",
       "\n",
       "    .dataframe tbody tr th {\n",
       "        vertical-align: top;\n",
       "    }\n",
       "\n",
       "    .dataframe thead th {\n",
       "        text-align: right;\n",
       "    }\n",
       "</style>\n",
       "<table border=\"1\" class=\"dataframe\">\n",
       "  <thead>\n",
       "    <tr style=\"text-align: right;\">\n",
       "      <th></th>\n",
       "      <th>component</th>\n",
       "      <th>composition</th>\n",
       "      <th>Pci</th>\n",
       "      <th>Tci</th>\n",
       "      <th>wi</th>\n",
       "      <th>Mwi</th>\n",
       "      <th>Vci</th>\n",
       "    </tr>\n",
       "  </thead>\n",
       "  <tbody>\n",
       "    <tr>\n",
       "      <th>0</th>\n",
       "      <td>N2</td>\n",
       "      <td>0.0200</td>\n",
       "      <td>493.1</td>\n",
       "      <td>227.49</td>\n",
       "      <td>0.040</td>\n",
       "      <td>28.013</td>\n",
       "      <td>0.0510</td>\n",
       "    </tr>\n",
       "    <tr>\n",
       "      <th>1</th>\n",
       "      <td>C1</td>\n",
       "      <td>0.8866</td>\n",
       "      <td>666.4</td>\n",
       "      <td>343.33</td>\n",
       "      <td>0.008</td>\n",
       "      <td>16.043</td>\n",
       "      <td>0.0988</td>\n",
       "    </tr>\n",
       "    <tr>\n",
       "      <th>2</th>\n",
       "      <td>C2</td>\n",
       "      <td>0.0492</td>\n",
       "      <td>706.5</td>\n",
       "      <td>549.92</td>\n",
       "      <td>0.098</td>\n",
       "      <td>30.070</td>\n",
       "      <td>0.0783</td>\n",
       "    </tr>\n",
       "    <tr>\n",
       "      <th>3</th>\n",
       "      <td>C3</td>\n",
       "      <td>0.0246</td>\n",
       "      <td>616.0</td>\n",
       "      <td>666.06</td>\n",
       "      <td>0.152</td>\n",
       "      <td>44.097</td>\n",
       "      <td>0.0727</td>\n",
       "    </tr>\n",
       "    <tr>\n",
       "      <th>4</th>\n",
       "      <td>nC4</td>\n",
       "      <td>0.0098</td>\n",
       "      <td>550.6</td>\n",
       "      <td>765.62</td>\n",
       "      <td>0.193</td>\n",
       "      <td>58.123</td>\n",
       "      <td>0.0703</td>\n",
       "    </tr>\n",
       "    <tr>\n",
       "      <th>5</th>\n",
       "      <td>nC5</td>\n",
       "      <td>0.0098</td>\n",
       "      <td>488.6</td>\n",
       "      <td>845.80</td>\n",
       "      <td>0.251</td>\n",
       "      <td>72.151</td>\n",
       "      <td>0.0675</td>\n",
       "    </tr>\n",
       "  </tbody>\n",
       "</table>\n",
       "</div>"
      ],
      "text/plain": [
       "  component  composition    Pci     Tci     wi     Mwi     Vci\n",
       "0        N2       0.0200  493.1  227.49  0.040  28.013  0.0510\n",
       "1        C1       0.8866  666.4  343.33  0.008  16.043  0.0988\n",
       "2        C2       0.0492  706.5  549.92  0.098  30.070  0.0783\n",
       "3        C3       0.0246  616.0  666.06  0.152  44.097  0.0727\n",
       "4       nC4       0.0098  550.6  765.62  0.193  58.123  0.0703\n",
       "5       nC5       0.0098  488.6  845.80  0.251  72.151  0.0675"
      ]
     },
     "execution_count": 43,
     "metadata": {},
     "output_type": "execute_result"
    }
   ],
   "source": [
    "#Import Components Properties\n",
    "component_properties = pd.read_excel(\"components.xlsx\")\n",
    "component_properties\n",
    "# Pci = critical pressure\n",
    "# Tci = critical temperature\n",
    "# wi = accentric factor\n",
    "# Mwi = molecular weight\n",
    "# Vci = critical volume"
   ]
  },
  {
   "cell_type": "code",
   "execution_count": 28,
   "id": "7f21c9c8",
   "metadata": {},
   "outputs": [
    {
     "data": {
      "text/plain": [
       "array([[0.    , 0.018 , 0.039 , 0.046 , 0.047 , 0.048 ],\n",
       "       [0.018 , 0.    , 0.005 , 0.01  , 0.0145, 0.0182],\n",
       "       [0.039 , 0.005 , 0.    , 0.0017, 0.0032, 0.0048],\n",
       "       [0.046 , 0.01  , 0.0017, 0.    , 0.0012, 0.0024],\n",
       "       [0.047 , 0.0145, 0.0032, 0.0012, 0.    , 0.0008],\n",
       "       [0.048 , 0.0182, 0.0048, 0.0024, 0.0008, 0.    ]])"
      ]
     },
     "execution_count": 28,
     "metadata": {},
     "output_type": "execute_result"
    }
   ],
   "source": [
    "#Import binary coefficients\n",
    "d= pd.read_excel(\"binary.xlsx\").to_numpy()\n",
    "d"
   ]
  },
  {
   "cell_type": "code",
   "execution_count": 44,
   "id": "b7447d6c",
   "metadata": {},
   "outputs": [
    {
     "name": "stdout",
     "output_type": "stream",
     "text": [
      "Reduced Pressure,  Pri:\n",
      " 0    1.013993\n",
      "1    0.750300\n",
      "2    0.707714\n",
      "3    0.811688\n",
      "4    0.908100\n",
      "5    1.023332\n",
      "Name: Pci, dtype: float64\n",
      "Reduced Temperature, Tri:\n",
      " 0    2.328322\n",
      "1    1.542743\n",
      "2    0.963176\n",
      "3    0.795229\n",
      "4    0.691818\n",
      "5    0.626236\n",
      "Name: Tci, dtype: float64\n"
     ]
    }
   ],
   "source": [
    "Pci = component_properties['Pci'] \n",
    "Tci = component_properties['Tci']\n",
    "\n",
    "Pri= P/Pci\n",
    "Tri= (T+459.67 )/Tci # -459.67 = absolute zero\n",
    "\n",
    "print('Reduced Pressure,  Pri:\\n', Pri)\n",
    "print('Reduced Temperature, Tri:\\n',Tri)"
   ]
  },
  {
   "cell_type": "code",
   "execution_count": 45,
   "id": "97aa6dd2",
   "metadata": {},
   "outputs": [
    {
     "name": "stdout",
     "output_type": "stream",
     "text": [
      "Ai: [0.05046516 0.11808825 0.35568868 0.66663486 1.07323913 1.59557147]\n",
      "Bi: [0.03388048 0.03783546 0.05716229 0.07940629 0.10211731 0.12712662]\n"
     ]
    }
   ],
   "source": [
    "wi = component_properties['wi'] #accentric factor\n",
    "\n",
    "w_a = 0.45723553\n",
    "w_b = 0.07779607\n",
    "\n",
    "for i in wi:\n",
    "    if i<0.49:\n",
    "        mi = 0.3796+1.54226*wi-0.2699*wi**2\n",
    "    else:\n",
    "        mi = 0.379642+1.48503*wi-0.164423*wi**2+0.016667*wi**3\n",
    "        \n",
    "Ai =(w_a*(1+mi*(1-Tri**0.5))**2*(Pri/Tri**2)).replace(np.nan,0).to_numpy()\n",
    "Bi = ((w_b*Pri)/Tri).to_numpy()\n",
    "print('Ai:',Ai)\n",
    "print('Bi:',Bi)"
   ]
  },
  {
   "cell_type": "code",
   "execution_count": 46,
   "id": "a0961062",
   "metadata": {},
   "outputs": [
    {
     "name": "stdout",
     "output_type": "stream",
     "text": [
      "A : 0.14472949394965842\n",
      "B : 0.041234901215613226\n"
     ]
    }
   ],
   "source": [
    "#Calculating A and B\n",
    "\n",
    "c = component_properties['composition'].to_numpy()\n",
    "n= len(c)\n",
    "\n",
    "B =  np.sum(c * Bi)\n",
    "\n",
    "A=0\n",
    "for i in range (n):\n",
    "    for j in range (n):\n",
    "        A += (1-d[i,j])*(Ai[i]*Ai[j])**0.5*c[i]*c[j] \n",
    "        \n",
    "print('A :', A)\n",
    "print('B :', B)"
   ]
  },
  {
   "cell_type": "code",
   "execution_count": 47,
   "id": "ff0ed831",
   "metadata": {},
   "outputs": [
    {
     "name": "stdout",
     "output_type": "stream",
     "text": [
      "For Pressure: 500.0 psia  and Temperature: 70.0 Farenheit\n",
      "                          A: 0.1447\n",
      "                          B: 0.0412\n",
      "                          Z: [0.9004649+0.j         0.0291501+0.06173918j 0.0291501-0.06173918j]\n",
      "                      Z_max: 0.9004648972943421\n",
      "                      Z_min: 0.02915010074502255\n"
     ]
    }
   ],
   "source": [
    "#Calculating Z \n",
    "\n",
    "m1 = 1+2**0.5\n",
    "m2 = 1-2**0.5\n",
    "p=1\n",
    "q=(m1+m2-1)*B-1\n",
    "r=(A+m1*m2*B**2-(m1+m2)*B*(B+1))\n",
    "s=-A*B-m1*m2*B**2*(B+1)\n",
    "\n",
    "Z = np.roots([p, q, r, s])\n",
    "\n",
    "print(f'For Pressure: {P} psia  and Temperature: {T} Farenheit' )\n",
    "print('                          A:', round(A,4))\n",
    "print('                          B:', round(B,4))\n",
    "print('                          Z:', Z)        \n",
    "print('                      Z_max:', max(np.real(Z)))\n",
    "print('                      Z_min:', min(np.real(Z)))"
   ]
  },
  {
   "cell_type": "markdown",
   "id": "dcdd5d10",
   "metadata": {},
   "source": [
    "# Wilsons Correlation, K-values"
   ]
  },
  {
   "cell_type": "code",
   "execution_count": 48,
   "id": "46b5a972",
   "metadata": {},
   "outputs": [
    {
     "data": {
      "text/plain": [
       "0    23.861510\n",
       "1     8.949366\n",
       "2     1.127827\n",
       "3     0.250495\n",
       "4     0.063454\n",
       "5     0.017729\n",
       "dtype: float64"
      ]
     },
     "execution_count": 48,
     "metadata": {},
     "output_type": "execute_result"
    }
   ],
   "source": [
    "Ki = (1/Pri)*((5.37*(1+wi)*(1-(1/Tri))).apply(math.exp))\n",
    "\n",
    "Ki "
   ]
  },
  {
   "cell_type": "markdown",
   "id": "ab7dcb48",
   "metadata": {},
   "source": [
    "# Composition of Liquid and Vapour phase"
   ]
  },
  {
   "cell_type": "code",
   "execution_count": 49,
   "id": "a05f6e49",
   "metadata": {},
   "outputs": [
    {
     "name": "stdout",
     "output_type": "stream",
     "text": [
      "Composition in vapor phase is: 1.00142788665634\n",
      "Composition in liquid phase is: -0.0014278866563399717\n"
     ]
    }
   ],
   "source": [
    "g_V = lambda v:sum(c*(Ki - 1)/(v*(Ki - 1)+1))\n",
    "dg_V = lambda v:-sum(c*((Ki-1)**2)/((v*(Ki-1) + 1)**2))\n",
    "\n",
    "A = sum(c*(Ki-1))\n",
    "B = sum(c*(Ki-1)/Ki)\n",
    "\n",
    "v = A/(A - B) \n",
    "\n",
    "while abs(g_V(v))>0.0001:\n",
    "    v = v - g_V(v)/dg_V(v)\n",
    "\n",
    "l = 1 - v\n",
    "\n",
    "print(f\"Composition in vapor phase is: {v}\")\n",
    "print(f\"Composition in liquid phase is: {l}\")"
   ]
  },
  {
   "cell_type": "markdown",
   "id": "e0bc81d4",
   "metadata": {},
   "source": [
    "# Calculation of A and B in Liquid and Vapour phase"
   ]
  },
  {
   "cell_type": "code",
   "execution_count": 50,
   "id": "fcda2569",
   "metadata": {},
   "outputs": [
    {
     "name": "stdout",
     "output_type": "stream",
     "text": [
      "A in Vapour phase 0.14599643691793535 and liquid phase 1.128711704174488\n",
      "B in Vapour phase 0.04132798503624743 and liquid phase 0.10651790765434722\n"
     ]
    }
   ],
   "source": [
    "Xi = c/(1 + v*(Ki-1))\n",
    "Yi = Xi*Ki\n",
    "\n",
    "def Aa(c):\n",
    "    return [sum(c[i]*c*(Ai[i]*Ai)**0.5) for i in range(len(c))]\n",
    "\n",
    "Al = sum(Aa(Xi))\n",
    "Av = sum(Aa(Yi))\n",
    "Bl = sum(Xi*Bi)\n",
    "Bv = sum(Yi*Bi)\n",
    "\n",
    "print(f\"A in Vapour phase {Av} and liquid phase {Al}\")\n",
    "print(f\"B in Vapour phase {Bv} and liquid phase {Bl}\")"
   ]
  },
  {
   "cell_type": "code",
   "execution_count": 51,
   "id": "3433bec2",
   "metadata": {},
   "outputs": [],
   "source": [
    "# m1 = 1+2**0.5\n",
    "# m2 = 1-2**0.5\n",
    "\n",
    "# #Vapour Phase \n",
    "# p=1\n",
    "# q=(m1+m2-1)*Bv-1\n",
    "# r=(Av+m1*m2*Bv**2-(m1+m2)*Bv*(Bv+1))\n",
    "# s=-Av*Bv-m1*m2*Bv**2*(Bv+1)\n",
    "\n",
    "# Zv = np.roots([p, q, r, s])\n",
    "\n",
    "# print('Vapour Phase compressibility factor, Zv:', np.real(Zv))\n",
    "\n",
    "# Zv = max(Zv)\n",
    "# print('Vapour Phase :', np.real(Zv))\n",
    "\n",
    "# #Liquid phase \n",
    "# t=1\n",
    "# u=(m1+m2-1)*Bl-1\n",
    "# w=(Al+m1*m2*Bl**2-(m1+m2)*Bl*(Bl+1))\n",
    "# x=-Al*Bl-m1*m2*Bl**2*(Bl+1)\n",
    "\n",
    "# Zl = np.roots([t, u, w, x])\n",
    "\n",
    "# for i in range(len(Zl)):\n",
    "#     if np.isreal(Zl[i]):\n",
    "#         print('Liquid Phase compressibility factor, Zl:', np.real(Zl[i]))"
   ]
  },
  {
   "cell_type": "markdown",
   "id": "a09c55dc",
   "metadata": {},
   "source": [
    "# Compressibility of Liquid and Vapour phase"
   ]
  },
  {
   "cell_type": "code",
   "execution_count": 52,
   "id": "6c8c3ebd",
   "metadata": {},
   "outputs": [
    {
     "name": "stdout",
     "output_type": "stream",
     "text": [
      "Liquid Phase compressibility factor, Zl: 0.138570583988524\n",
      "Vapor Phase compressibility factor, Zv: 0.899191626494722\n"
     ]
    }
   ],
   "source": [
    "Zl, Zv = symbols(\"Zl Zv\")\n",
    "\n",
    "f_Zl = Zl**3+(Bl-1)*Zl**2+(Al-3*(Bl)**2-2*Bl)*Zl-(Al*Bl-(Bl)**2-(Bl)**3)\n",
    "f_Zv = Zv**3+(Bv-1)*Zv**2+(Av-3*(Bv)**2-2*Bv)*Zv-(Av*Bv-(Bv)**2-(Bv)**3)\n",
    "\n",
    "Zl_solutions = solve(f_Zl, Zl)\n",
    "Zv_solutions = solve(f_Zv, Zv)\n",
    "\n",
    "# eliminate complex roots:\n",
    "Zl_real_solutions = [sol.evalf() for sol in Zl_solutions if im(sol) == 0]\n",
    "Zv_real_solutions = [sol.evalf() for sol in Zv_solutions if im(sol) == 0]\n",
    "\n",
    "if Zl_real_solutions:\n",
    "    Zl = min(Zl_real_solutions)\n",
    "    print(f\"Liquid Phase compressibility factor, Zl: {Zl}\")\n",
    "else:\n",
    "    print(\"No real solutions for Liquid Phase compressibility factor\")\n",
    "\n",
    "if Zv_real_solutions:\n",
    "    Zv = max(Zv_real_solutions)\n",
    "    print(f\"Vapor Phase compressibility factor, Zv: {Zv}\")\n",
    "else:\n",
    "    print(\"No real solutions for Vapor Phase compressibility factor\")\n"
   ]
  },
  {
   "cell_type": "markdown",
   "id": "250ffa98",
   "metadata": {},
   "source": [
    "# Results"
   ]
  },
  {
   "cell_type": "code",
   "execution_count": 53,
   "id": "8bb708d3",
   "metadata": {},
   "outputs": [
    {
     "name": "stdout",
     "output_type": "stream",
     "text": [
      "For Pressure: 500.0 psia  and Temperature: 70.0 Farenheit\n",
      "Composition of Vapor phase : 1.00142788665634 and Liquid Phase: -0.0014278866563399717\n",
      "A in Vapour phase 0.14599643691793535 and Liquid phase 1.128711704174488\n",
      "B in Vapour phase 0.04132798503624743 and Liquid phase 0.10651790765434722\n",
      "Compressibility factor,  Vapour phase , Zv: 0.899191626494722 and Liquid phase, Zl: 0.138570583988524 \n"
     ]
    }
   ],
   "source": [
    "print(f'For Pressure: {P} psia  and Temperature: {T} Farenheit' )\n",
    "\n",
    "print(f\"Composition of Vapor phase : {v} and Liquid Phase: {l}\")\n",
    "\n",
    "print(f\"A in Vapour phase {Av} and Liquid phase {Al}\")\n",
    "\n",
    "print(f\"B in Vapour phase {Bv} and Liquid phase {Bl}\")\n",
    "\n",
    "print(f\"Compressibility factor,  Vapour phase , Zv: {Zv} and Liquid phase, Zl: {Zl} \")\n"
   ]
  },
  {
   "cell_type": "code",
   "execution_count": null,
   "id": "4305fab5",
   "metadata": {},
   "outputs": [],
   "source": []
  }
 ],
 "metadata": {
  "kernelspec": {
   "display_name": "Python 3 (ipykernel)",
   "language": "python",
   "name": "python3"
  },
  "language_info": {
   "codemirror_mode": {
    "name": "ipython",
    "version": 3
   },
   "file_extension": ".py",
   "mimetype": "text/x-python",
   "name": "python",
   "nbconvert_exporter": "python",
   "pygments_lexer": "ipython3",
   "version": "3.11.5"
  }
 },
 "nbformat": 4,
 "nbformat_minor": 5
}
