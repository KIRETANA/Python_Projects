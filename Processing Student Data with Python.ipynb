{
 "cells": [
  {
   "cell_type": "code",
   "execution_count": 4,
   "id": "c1c2e69c",
   "metadata": {},
   "outputs": [],
   "source": [
    "import csv\n",
    "\n",
    "def process_students_file(input_file, output_file):\n",
    "    # Read the CSV file\n",
    "    with open(input_file, mode='r', newline='') as file:\n",
    "        reader = csv.DictReader(file)\n",
    "        \n",
    "        # Filter Data\n",
    "        filtered_students = []\n",
    "        for row in reader:\n",
    "            if row['Grade'] in ['A', 'B']: # Check if the grade is A or B\n",
    "                row['Status'] = 'Passed'  # Add Status column\n",
    "                filtered_students.append(row)\n",
    "                \n",
    "    # Write to a new CSV file\n",
    "    if filtered_students:\n",
    "        with open(output_file, mode='w') as file:\n",
    "            writer = csv.DictWriter(file, fieldnames=filtered_students[0].keys())\n",
    "            writer.writeheader()\n",
    "            writer.writerows(filtered_students)\n",
    "            \n",
    "process_students_file('students.csv', 'top_students.csv')"
   ]
  },
  {
   "cell_type": "markdown",
   "id": "23a6fad0",
   "metadata": {},
   "source": [
    "## Processing Student Data with P"
   ]
  }
 ],
 "metadata": {
  "kernelspec": {
   "display_name": "Python 3 (ipykernel)",
   "language": "python",
   "name": "python3"
  },
  "language_info": {
   "codemirror_mode": {
    "name": "ipython",
    "version": 3
   },
   "file_extension": ".py",
   "mimetype": "text/x-python",
   "name": "python",
   "nbconvert_exporter": "python",
   "pygments_lexer": "ipython3",
   "version": "3.11.5"
  }
 },
 "nbformat": 4,
 "nbformat_minor": 5
}
