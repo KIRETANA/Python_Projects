{
 "cells": [
  {
   "cell_type": "markdown",
   "id": "5a0c1bc0",
   "metadata": {},
   "source": [
    "# Peng-Robinson Equation of State"
   ]
  },
  {
   "cell_type": "code",
   "execution_count": 2,
   "id": "70234b83",
   "metadata": {},
   "outputs": [],
   "source": [
    "import numpy as np\n",
    "\n",
    "def peng_robinson_eos(P, T, acentric_factor, critical_pressure, critical_temperature):\n",
    "    R = 8.314  # Gas constant in J/(mol*K)\n",
    "    \n",
    "    # Constants for Peng-Robinson EOS\n",
    "    \n",
    "    a = 0.45724 * (R ** 2) * (critical_temperature ** 2) / critical_pressure\n",
    "    b = 0.07780 * R * critical_temperature / critical_pressure\n",
    "    \n",
    "    # Tr and Pr reduced temperature and pressure\n",
    "    \n",
    "    Tr = T / critical_temperature\n",
    "    Pr = P / critical_pressure\n",
    "    \n",
    "    # Calculate alpha function\n",
    "    \n",
    "    alpha = (1 + 0.37464 + 1.54226 * acentric_factor - 0.26992 * (acentric_factor ** 2)) * (1 - np.sqrt(Tr)) ** 2\n",
    "    \n",
    "    # Calculate the cubic EOS equation\n",
    "    \n",
    "    A = a * alpha * P / (R ** 2 * T ** 2)\n",
    "    B = b * P / (R * T)\n",
    "    \n",
    "    # Initial guess for Z (compressibility factor)\n",
    "    \n",
    "    Z_guess = 0.9\n",
    "    \n",
    "    # Newton-Raphson method for finding Z\n",
    "    \n",
    "    Z = Z_guess\n",
    "    epsilon = 1e-8\n",
    "    max_iterations = 100\n",
    "    \n",
    "    for i in range(max_iterations):\n",
    "        f = Z ** 3 - (1 - B) * Z ** 2 + (A - 2 * B - 3 * B ** 2) * Z - (A * B - B ** 2 - B ** 3)\n",
    "        f_prime = 3 * Z ** 2 - 2 * (1 - B) * Z + (A - 2 * B - 3 * B ** 2)\n",
    "        Z = Z - f / f_prime\n",
    "        \n",
    "        if abs(f) < epsilon:\n",
    "            break\n",
    "    \n",
    "    return Z"
   ]
  },
  {
   "cell_type": "code",
   "execution_count": 4,
   "id": "083f193d",
   "metadata": {},
   "outputs": [
    {
     "name": "stdout",
     "output_type": "stream",
     "text": [
      "Compressibility Factor (Z): 1.0142\n"
     ]
    }
   ],
   "source": [
    "# Example usage\n",
    "pressure = 5.0  # in bar\n",
    "temperature = 450.0  # in Kelvin\n",
    "acentric_factor = 0.296\n",
    "critical_pressure = 29.69  # in bar\n",
    "critical_temperature = 507.4  # in Kelvin\n",
    "\n",
    "compressibility_factor = peng_robinson_eos(pressure, temperature, acentric_factor, critical_pressure, critical_temperature)\n",
    "\n",
    "print(f'Compressibility Factor (Z): {compressibility_factor:.4f}')"
   ]
  },
  {
   "cell_type": "code",
   "execution_count": null,
   "id": "4a2b9655",
   "metadata": {},
   "outputs": [],
   "source": []
  }
 ],
 "metadata": {
  "kernelspec": {
   "display_name": "Python 3 (ipykernel)",
   "language": "python",
   "name": "python3"
  },
  "language_info": {
   "codemirror_mode": {
    "name": "ipython",
    "version": 3
   },
   "file_extension": ".py",
   "mimetype": "text/x-python",
   "name": "python",
   "nbconvert_exporter": "python",
   "pygments_lexer": "ipython3",
   "version": "3.11.5"
  }
 },
 "nbformat": 4,
 "nbformat_minor": 5
}
