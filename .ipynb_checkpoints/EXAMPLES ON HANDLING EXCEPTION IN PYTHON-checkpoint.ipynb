{
 "cells": [
  {
   "cell_type": "code",
   "execution_count": 2,
   "id": "8ec91d02",
   "metadata": {},
   "outputs": [
    {
     "name": "stdout",
     "output_type": "stream",
     "text": [
      "enter a number:    3\n",
      "enter a number:    6\n",
      "0.5\n"
     ]
    }
   ],
   "source": [
    "try:\n",
    "    a = int(input(\"enter a number:    \"))\n",
    "    b = int(input(\"enter a number:    \"))\n",
    "    z = a/b\n",
    "    print(z)\n",
    "except ValueError:\n",
    "    print(\"Please enter a number\")\n",
    "    \n",
    "except ZeroDivisionError :\n",
    "    print(\"Division by zero is not allowed\")"
   ]
  },
  {
   "cell_type": "code",
   "execution_count": null,
   "id": "81d66127",
   "metadata": {},
   "outputs": [],
   "source": []
  }
 ],
 "metadata": {
  "kernelspec": {
   "display_name": "Python 3 (ipykernel)",
   "language": "python",
   "name": "python3"
  },
  "language_info": {
   "codemirror_mode": {
    "name": "ipython",
    "version": 3
   },
   "file_extension": ".py",
   "mimetype": "text/x-python",
   "name": "python",
   "nbconvert_exporter": "python",
   "pygments_lexer": "ipython3",
   "version": "3.11.5"
  }
 },
 "nbformat": 4,
 "nbformat_minor": 5
}
