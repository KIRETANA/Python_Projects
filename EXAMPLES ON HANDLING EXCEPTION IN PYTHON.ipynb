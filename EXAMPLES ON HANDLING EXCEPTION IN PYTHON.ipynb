{
 "cells": [
  {
   "cell_type": "code",
   "execution_count": 12,
   "id": "8ec91d02",
   "metadata": {},
   "outputs": [
    {
     "name": "stdout",
     "output_type": "stream",
     "text": [
      "Enter the first number: 3\n",
      "Enter the operation (+, -, *, /): *\n",
      "Enter the second number: 9\n",
      "Result: 27.0\n"
     ]
    }
   ],
   "source": [
    "def simple_calculator():\n",
    "    while True:\n",
    "        try:\n",
    "            # Get user input for the first number\n",
    "            num1 = float(input(\"Enter the first number: \"))\n",
    " \n",
    "            # Get user input for the mathematical operation\n",
    "            operation = input(\"Enter the operation (+, -, *, /): \")\n",
    " \n",
    "            # Get user input for the second number\n",
    "            num2 = float(input(\"Enter the second number: \"))\n",
    " \n",
    "            # Perform the chosen operation\n",
    "            if operation == '+':\n",
    "                result = num1 + num2\n",
    "            elif operation == '-':\n",
    "                result = num1 - num2\n",
    "            elif operation == '*':\n",
    "                result = num1 * num2\n",
    "            elif operation == '/':\n",
    "                # Check for division by zero\n",
    "                if num2 == 0:\n",
    "                    raise ZeroDivisionError(\"Cannot divide by zero. Please enter a non-zero second number.\")\n",
    "                result = num1 / num2\n",
    "            else:\n",
    "                # If an invalid operation is entered\n",
    "                raise ValueError(\"Invalid operation. Please enter +, -, *, or /.\")\n",
    "            # Display the result\n",
    "            print(f\"Result: {result}\")\n",
    "          \n",
    "            "
   ]
  },
  {
   "cell_type": "code",
   "execution_count": null,
   "id": "81d66127",
   "metadata": {},
   "outputs": [],
   "source": []
  }
 ],
 "metadata": {
  "kernelspec": {
   "display_name": "Python 3 (ipykernel)",
   "language": "python",
   "name": "python3"
  },
  "language_info": {
   "codemirror_mode": {
    "name": "ipython",
    "version": 3
   },
   "file_extension": ".py",
   "mimetype": "text/x-python",
   "name": "python",
   "nbconvert_exporter": "python",
   "pygments_lexer": "ipython3",
   "version": "3.11.5"
  }
 },
 "nbformat": 4,
 "nbformat_minor": 5
}
