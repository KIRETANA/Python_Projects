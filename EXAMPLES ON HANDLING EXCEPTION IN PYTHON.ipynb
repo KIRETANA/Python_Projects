{
 "cells": [
  {
   "cell_type": "code",
   "execution_count": 14,
   "id": "8ec91d02",
   "metadata": {},
   "outputs": [
    {
     "name": "stdout",
     "output_type": "stream",
     "text": [
      "Enter the first number: 2\n",
      "Enter the operation (+, -, *, /): /\n",
      "Enter the second number: 2\n",
      "Result: 1.0\n"
     ]
    }
   ],
   "source": [
    "def simple_calculator():\n",
    "    while True:\n",
    "        try:\n",
    "            # Get user input for the first number\n",
    "            num1 = float(input(\"Enter the first number: \"))\n",
    " \n",
    "            # Get user input for the mathematical operation\n",
    "            operation = input(\"Enter the operation (+, -, *, /): \")\n",
    " \n",
    "            # Get user input for the second number\n",
    "            num2 = float(input(\"Enter the second number: \"))\n",
    " \n",
    "            # Perform the chosen operation\n",
    "            if operation == '+':\n",
    "                result = num1 + num2\n",
    "            elif operation == '-':\n",
    "                result = num1 - num2\n",
    "            elif operation == '*':\n",
    "                result = num1 * num2\n",
    "            elif operation == '/':\n",
    "                # Check for division by zero\n",
    "                if num2 == 0:\n",
    "                    raise ZeroDivisionError(\"Cannot divide by zero. Please enter a non-zero second number.\")\n",
    "                result = num1 / num2\n",
    "            else:\n",
    "                # If an invalid operation is entered\n",
    "                raise ValueError(\"Invalid operation. Please enter +, -, *, or /.\")\n",
    "            # Display the result\n",
    "            print(f\"Result: {result}\")\n",
    "          \n",
    "            # Break out of the loop if everything is successful\n",
    "            break\n",
    "        \n",
    "        except ValueError as ve:\n",
    "            print(f\"Error: {ve}\")\n",
    "            print(\"Please enter valid numbers and try again.\")\n",
    "        except ZeroDivisionError as zde:\n",
    "            print(f\"Error: {zde}\")\n",
    "            print(\"Please enter a non-zero second number for division.\")\n",
    "        except Exception as e:\n",
    "            print(f\"Error: {e}\")\n",
    "            print(\"An unexpected error occurred. Please try again.\")\n",
    "\n",
    "# Call the function to start the calculator\n",
    "simple_calculator()"
   ]
  },
  {
   "cell_type": "code",
   "execution_count": 6,
   "id": "81d66127",
   "metadata": {},
   "outputs": [
    {
     "name": "stdout",
     "output_type": "stream",
     "text": [
      "Enter a number:3456789\n",
      "You entered a number!\n",
      "This is executed no matter what!\n"
     ]
    }
   ],
   "source": [
    "try:\n",
    "    number=int(input(\"Enter a number:\"))\n",
    "except ValueError:\n",
    "    print(\"That's not a number!\")\n",
    "else:\n",
    "    print(\"You entered a number!\")\n",
    "finally:\n",
    "    print(\"This is executed no matter what!\")"
   ]
  },
  {
   "cell_type": "code",
   "execution_count": 12,
   "id": "e037550c",
   "metadata": {},
   "outputs": [
    {
     "name": "stdout",
     "output_type": "stream",
     "text": [
      "Enter a number:2\n",
      "0.5\n"
     ]
    }
   ],
   "source": [
    "try:\n",
    "    user_input=input(\"Enter a number:\")\n",
    "    result = 1/int(user_input)\n",
    "    print(result)\n",
    "except ValueError:\n",
    "    print(\"Please enter a valid integer\")\n",
    "except ZeroDIvisionError:\n",
    "    print(\"Division by zero is not allowed\")"
   ]
  },
  {
   "cell_type": "code",
   "execution_count": null,
   "id": "30274169",
   "metadata": {},
   "outputs": [],
   "source": []
  }
 ],
 "metadata": {
  "kernelspec": {
   "display_name": "Python 3 (ipykernel)",
   "language": "python",
   "name": "python3"
  },
  "language_info": {
   "codemirror_mode": {
    "name": "ipython",
    "version": 3
   },
   "file_extension": ".py",
   "mimetype": "text/x-python",
   "name": "python",
   "nbconvert_exporter": "python",
   "pygments_lexer": "ipython3",
   "version": "3.11.5"
  }
 },
 "nbformat": 4,
 "nbformat_minor": 5
}
